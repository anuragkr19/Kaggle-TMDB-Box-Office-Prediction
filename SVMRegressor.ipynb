{
 "cells": [
  {
   "cell_type": "code",
   "execution_count": 7,
   "metadata": {},
   "outputs": [],
   "source": [
    "#Importing Libraries\n",
    "\n",
    "import pandas as pd\n",
    "import numpy as np\n",
    "from sklearn.model_selection import train_test_split,cross_val_score\n",
    "from sklearn.svm import SVR\n",
    "from sklearn import metrics\n",
    "from sklearn.preprocessing import StandardScaler"
   ]
  },
  {
   "cell_type": "code",
   "execution_count": 8,
   "metadata": {},
   "outputs": [],
   "source": [
    "#Loading train/test data\n",
    "\n",
    "train = pd.read_csv('preprocessed_train_data.csv')\n",
    "test = pd.read_csv('preprocessed_test_data.csv')"
   ]
  },
  {
   "cell_type": "code",
   "execution_count": 9,
   "metadata": {},
   "outputs": [],
   "source": [
    "#Splitting dataset into X,y\n",
    "X_train = train.drop(columns=['id','revenue'])\n",
    "y_train = train.revenue\n",
    "\n",
    "X_test_id = test.id\n",
    "X_test = test.drop(columns=['id'])"
   ]
  },
  {
   "cell_type": "code",
   "execution_count": 10,
   "metadata": {},
   "outputs": [],
   "source": [
    "#Intializing StandardScaler model\n",
    "scaler = StandardScaler()\n",
    "\n",
    "#Compute mean and standard deviation from X_train to be later used for scaling both X_train and X_test\n",
    "scaler.fit(X_train)\n",
    "\n",
    "#Perform standarization of X_train\n",
    "X_train = scaler.transform(X_train)\n",
    "\n",
    "#Perform standarization of X_train\n",
    "X_test = scaler.transform(X_test)\n",
    "\n",
    "#To reduce variance in the prediction(Heteroskedasticity)\n",
    "ylog = np.log(y_train)\n",
    "\n",
    "#Initializing the model\n",
    "svr_model = SVR(gamma='auto')\n",
    "\n",
    "#Fitting the model\n",
    "svr_model.fit(X_train,ylog)\n",
    "\n",
    "#Making Prediction\n",
    "y_test_hat = svr_model.predict(X_test)\n",
    "\n",
    "#Taking exponent of prediction to make it in the original scale\n",
    "y_test_hat = np.exp(y_test_hat)"
   ]
  },
  {
   "cell_type": "code",
   "execution_count": 11,
   "metadata": {},
   "outputs": [],
   "source": [
    "#Saving id and revenue in Kaggle format csv file\n",
    "pd.DataFrame({'id':X_test_id,'revenue':y_test_hat}).to_csv('tmdb-box-office-prediction.csv', index= False)"
   ]
  },
  {
   "cell_type": "code",
   "execution_count": 1,
   "metadata": {},
   "outputs": [
    {
     "name": "stdout",
     "output_type": "stream",
     "text": [
      "2.43565\n"
     ]
    }
   ],
   "source": [
    "#Kaggle Score\n",
    "print(\"2.43565\")"
   ]
  }
 ],
 "metadata": {
  "kernelspec": {
   "display_name": "Python 3",
   "language": "python",
   "name": "python3"
  },
  "language_info": {
   "codemirror_mode": {
    "name": "ipython",
    "version": 3
   },
   "file_extension": ".py",
   "mimetype": "text/x-python",
   "name": "python",
   "nbconvert_exporter": "python",
   "pygments_lexer": "ipython3",
   "version": "3.7.3"
  }
 },
 "nbformat": 4,
 "nbformat_minor": 2
}
