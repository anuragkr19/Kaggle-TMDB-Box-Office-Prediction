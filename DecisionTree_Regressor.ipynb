{
 "cells": [
  {
   "cell_type": "code",
   "execution_count": 22,
   "metadata": {},
   "outputs": [],
   "source": [
    "#Importing Libraries\n",
    "\n",
    "import pandas as pd\n",
    "import numpy as np\n",
    "from sklearn.model_selection import train_test_split,cross_val_score\n",
    "from sklearn import metrics\n",
    "from sklearn.tree import DecisionTreeRegressor\n",
    "from sklearn.model_selection import StratifiedKFold\n",
    "from sklearn.model_selection import GridSearchCV\n",
    "from sklearn.preprocessing import StandardScaler"
   ]
  },
  {
   "cell_type": "code",
   "execution_count": 23,
   "metadata": {},
   "outputs": [],
   "source": [
    "#Loading train/test data\n",
    "\n",
    "train = pd.read_csv('preprocessed_train_data.csv')\n",
    "test = pd.read_csv('preprocessed_test_data.csv')"
   ]
  },
  {
   "cell_type": "code",
   "execution_count": 24,
   "metadata": {},
   "outputs": [],
   "source": [
    "#Splitting dataset into X,y\n",
    "X_train = train.drop(columns=['id','revenue'])\n",
    "y_train = train.revenue\n",
    "\n",
    "X_test_id = test.id\n",
    "X_test = test.drop(columns=['id'])"
   ]
  },
  {
   "cell_type": "code",
   "execution_count": 25,
   "metadata": {},
   "outputs": [],
   "source": [
    "#Intializing StandardScaler model\n",
    "scaler = StandardScaler()\n",
    "\n",
    "scaler.fit(X_train)\n",
    "\n",
    "#Perform standarization of X_train\n",
    "X_train = scaler.transform(X_train)\n",
    "\n",
    "#Perform standarization of X_train\n",
    "X_test = scaler.transform(X_test)\n",
    "\n",
    "#To reduce variance in the prediction(Heteroskedasticity) \n",
    "ylog = np.log(y_train)\n"
   ]
  },
  {
   "cell_type": "code",
   "execution_count": 26,
   "metadata": {},
   "outputs": [
    {
     "name": "stderr",
     "output_type": "stream",
     "text": [
      "c:\\users\\mohit\\appdata\\local\\programs\\python\\python37\\lib\\site-packages\\sklearn\\model_selection\\_split.py:657: Warning: The least populated class in y has only 1 members, which is too few. The minimum number of members in any class cannot be less than n_splits=5.\n",
      "  % (min_groups, self.n_splits)), Warning)\n"
     ]
    },
    {
     "name": "stdout",
     "output_type": "stream",
     "text": [
      "Best Parameter: {'max_depth': 4}\n"
     ]
    },
    {
     "name": "stderr",
     "output_type": "stream",
     "text": [
      "c:\\users\\mohit\\appdata\\local\\programs\\python\\python37\\lib\\site-packages\\sklearn\\model_selection\\_search.py:814: DeprecationWarning: The default of the `iid` parameter will change from True to False in version 0.22 and will be removed in 0.24. This will change numeric results when test-set sizes are unequal.\n",
      "  DeprecationWarning)\n"
     ]
    }
   ],
   "source": [
    "# Decision regressor\n",
    "\n",
    "#Intitializing the model\n",
    "dt_model = DecisionTreeRegressor()\n",
    "\n",
    "#Intitializing the parameters list\n",
    "param_grid = {'max_depth': [i for i in range(1,20)]}\n",
    "\n",
    "#Using StratifiedKFold to form 5  stratified partitions\n",
    "cv = StratifiedKFold(n_splits=5, random_state=0, shuffle=True)\n",
    "\n",
    "#using GridSearchCV to find the model best parameter\n",
    "grid = GridSearchCV(dt_model, param_grid, cv = cv, return_train_score=True)\n",
    "\n",
    "#Fitting the model\n",
    "grid.fit(X_train, y_train)\n",
    "\n",
    "#Pritning the best parameter\n",
    "print(\"Best Parameter: {}\".format(grid.best_params_))\n",
    "\n",
    "#Making predictions\n",
    "y_test_hat= grid.predict(X_test)\n",
    "\n",
    "\n",
    "\n"
   ]
  },
  {
   "cell_type": "code",
   "execution_count": 27,
   "metadata": {},
   "outputs": [],
   "source": [
    "#Saving id and revenue in Kaggle format csv file\n",
    "pd.DataFrame({'id':X_test_id,'revenue':y_test_hat}).to_csv('tmdb-box-office-prediction.csv', index= False)"
   ]
  },
  {
   "cell_type": "code",
   "execution_count": 1,
   "metadata": {},
   "outputs": [
    {
     "name": "stdout",
     "output_type": "stream",
     "text": [
      "2.9106\n"
     ]
    }
   ],
   "source": [
    "#Kaggle\n",
    "print(\"2.9106\")"
   ]
  }
 ],
 "metadata": {
  "kernelspec": {
   "display_name": "Python 3",
   "language": "python",
   "name": "python3"
  },
  "language_info": {
   "codemirror_mode": {
    "name": "ipython",
    "version": 3
   },
   "file_extension": ".py",
   "mimetype": "text/x-python",
   "name": "python",
   "nbconvert_exporter": "python",
   "pygments_lexer": "ipython3",
   "version": "3.7.3"
  }
 },
 "nbformat": 4,
 "nbformat_minor": 2
}
