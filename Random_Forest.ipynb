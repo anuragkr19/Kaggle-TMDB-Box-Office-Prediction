{
 "cells": [
  {
   "cell_type": "code",
   "execution_count": 2,
   "metadata": {},
   "outputs": [],
   "source": [
    "#Importing Libraries\n",
    "import numpy as np\n",
    "import pandas as pd\n",
    "import matplotlib.pyplot as plt\n",
    "from sklearn.ensemble import RandomForestRegressor\n",
    "from sklearn.model_selection import cross_val_score,train_test_split,GridSearchCV,StratifiedKFold\n",
    "from sklearn.metrics import roc_curve,auc,accuracy_score,classification_report,mean_squared_log_error \n",
    "from sklearn.preprocessing import StandardScaler"
   ]
  },
  {
   "cell_type": "code",
   "execution_count": 4,
   "metadata": {},
   "outputs": [],
   "source": [
    "#Loading train/test data\n",
    "train = pd.read_csv('preprocessed_train_data.csv')\n",
    "test = pd.read_csv('preprocessed_test_data.csv')"
   ]
  },
  {
   "cell_type": "code",
   "execution_count": 12,
   "metadata": {},
   "outputs": [],
   "source": [
    "#Splitting dataset into X,y\n",
    "X_train = train.drop(columns=['id','revenue'])\n",
    "y_train = train.revenue\n",
    "\n",
    "X_test_id = test.id\n",
    "X_test = test.drop(columns=['id'])"
   ]
  },
  {
   "cell_type": "code",
   "execution_count": 13,
   "metadata": {},
   "outputs": [],
   "source": [
    "#Initializing Standard Scaler\n",
    "scaler = StandardScaler()\n",
    "\n",
    "\n",
    "#Compute mean and standard deviation from X_train to be later used for scaling both X_train and X_test\n",
    "scaler.fit(X_train)\n",
    "\n",
    "#Perform standarization of X_train\n",
    "X_train = scaler.transform(X_train)\n",
    "\n",
    "#Perform standarization of X_train\n",
    "X_test = scaler.transform(X_test)\n",
    "\n",
    "\n",
    "# initialize the RandomForestRegressor model\n",
    "model = RandomForestRegressor(max_features='sqrt',random_state=0,criterion='mse',n_estimators=200,max_depth=20)\n",
    "\n",
    "#To reduce variance in the prediction(Heteroskedasticity) \n",
    "ylog = np.log(y_train)\n",
    "\n",
    "#fititng the model\n",
    "model.fit(X_train,ylog)\n",
    "\n",
    "# predict with out-of-sample data\n",
    "y_test_hat = model.predict(X_test)\n",
    "\n",
    "#Taking exponent of prediction to make it in the original scale\n",
    "y_test_hat = np.exp(y_test_hat)"
   ]
  },
  {
   "cell_type": "code",
   "execution_count": 14,
   "metadata": {},
   "outputs": [],
   "source": [
    "#Saving id and revenue in Kaggle format csv file\n",
    "pd.DataFrame({'id':X_test_id,'revenue':y_test_hat}).to_csv('tmdb-box-office-prediction.csv', index= False)"
   ]
  },
  {
   "cell_type": "code",
   "execution_count": 6,
   "metadata": {},
   "outputs": [
    {
     "name": "stdout",
     "output_type": "stream",
     "text": [
      "2.25634\n"
     ]
    }
   ],
   "source": [
    "#Kaggle Score\n",
    "print(\"2.25634\")"
   ]
  }
 ],
 "metadata": {
  "kernelspec": {
   "display_name": "Python 3",
   "language": "python",
   "name": "python3"
  },
  "language_info": {
   "codemirror_mode": {
    "name": "ipython",
    "version": 3
   },
   "file_extension": ".py",
   "mimetype": "text/x-python",
   "name": "python",
   "nbconvert_exporter": "python",
   "pygments_lexer": "ipython3",
   "version": "3.7.3"
  }
 },
 "nbformat": 4,
 "nbformat_minor": 2
}
